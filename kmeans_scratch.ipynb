{
 "cells": [
  {
   "cell_type": "markdown",
   "metadata": {
    "colab_type": "text",
    "id": "sZe1NjCrKqGh"
   },
   "source": [
    "# Tarefa 1: Aprendizado Não-Supervisionado"
   ]
  },
  {
   "cell_type": "markdown",
   "metadata": {
    "colab_type": "text",
    "id": "GOE3VAVlKqGi"
   },
   "source": [
    "**Autor**: Matheus Jericó Palhares <br>\n",
    "**LinkedIn**: https://linkedin.com/in/matheusjerico <br>\n",
    "**Github**: https://github.com/matheusjerico"
   ]
  },
  {
   "cell_type": "markdown",
   "metadata": {
    "colab_type": "text",
    "id": "JPMP7kU5KqGi"
   },
   "source": [
    "### 1) Implementar a função “fit_k_means(pontos, parada, max_iter)”, com K fixo e igual a 3. Retorne os centróides finais.\n",
    "\n",
    "**Variáveis**:\n",
    "- pontos: conjunto de pontos 2D (casos x mortes) que serão clusterizados\n",
    "- parada: valor da variação dos clusters que indicará o fim do treinamento, i.e., se distancia(centroide_antigo, centroide_novo) < parada então termine o treinamento\n",
    "- max_iter: quantidade máxima de vezes que o algoritmo deve ser repetido caso “parada” não seja alcançada\n"
   ]
  },
  {
   "cell_type": "markdown",
   "metadata": {
    "colab_type": "text",
    "id": "kOOo-EqIKqGj"
   },
   "source": [
    "O relatório será o notebook exportado para um arquivo HTML e deve conter:\n",
    "- Um scatter plot mostrando os centróides (com marcador x) e seus respectivos pontos (cada cluster deve estar em uma cor distinta)\n",
    "- Para cada cluster, também devem ser exibidas as distâncias médias entre os pontos e seu respectivo centróide final\n",
    "- Discorra sobre cada cluster: o que eles indicam?\n"
   ]
  },
  {
   "cell_type": "markdown",
   "metadata": {
    "colab_type": "text",
    "id": "jNdeyvaiKqGj"
   },
   "source": [
    "#### 1. Bibliotecas"
   ]
  },
  {
   "cell_type": "code",
   "execution_count": 1,
   "metadata": {
    "colab": {},
    "colab_type": "code",
    "id": "0l-JdNhwKqGk"
   },
   "outputs": [],
   "source": [
    "import numpy as np\n",
    "import matplotlib.pyplot as plt\n",
    "import pandas as pd\n",
    "import random as rd\n",
    "from copy import deepcopy"
   ]
  },
  {
   "cell_type": "markdown",
   "metadata": {
    "colab_type": "text",
    "id": "exdZ9qPdKqGm"
   },
   "source": [
    "#### 2. Carregando dados"
   ]
  },
  {
   "cell_type": "code",
   "execution_count": 2,
   "metadata": {
    "colab": {
     "base_uri": "https://localhost:8080/",
     "height": 204
    },
    "colab_type": "code",
    "id": "2fivjTmOKqGm",
    "outputId": "fde9703a-d539-4440-b4cf-6029512266c5"
   },
   "outputs": [
    {
     "data": {
      "text/html": [
       "<div>\n",
       "<style scoped>\n",
       "    .dataframe tbody tr th:only-of-type {\n",
       "        vertical-align: middle;\n",
       "    }\n",
       "\n",
       "    .dataframe tbody tr th {\n",
       "        vertical-align: top;\n",
       "    }\n",
       "\n",
       "    .dataframe thead th {\n",
       "        text-align: right;\n",
       "    }\n",
       "</style>\n",
       "<table border=\"1\" class=\"dataframe\">\n",
       "  <thead>\n",
       "    <tr style=\"text-align: right;\">\n",
       "      <th></th>\n",
       "      <th>county</th>\n",
       "      <th>cases</th>\n",
       "      <th>deaths</th>\n",
       "    </tr>\n",
       "  </thead>\n",
       "  <tbody>\n",
       "    <tr>\n",
       "      <th>0</th>\n",
       "      <td>Abbeville</td>\n",
       "      <td>84</td>\n",
       "      <td>0</td>\n",
       "    </tr>\n",
       "    <tr>\n",
       "      <th>1</th>\n",
       "      <td>Acadia</td>\n",
       "      <td>741</td>\n",
       "      <td>21</td>\n",
       "    </tr>\n",
       "    <tr>\n",
       "      <th>2</th>\n",
       "      <td>Accomack</td>\n",
       "      <td>116</td>\n",
       "      <td>0</td>\n",
       "    </tr>\n",
       "    <tr>\n",
       "      <th>3</th>\n",
       "      <td>Ada</td>\n",
       "      <td>4264</td>\n",
       "      <td>41</td>\n",
       "    </tr>\n",
       "    <tr>\n",
       "      <th>4</th>\n",
       "      <td>Adair</td>\n",
       "      <td>325</td>\n",
       "      <td>8</td>\n",
       "    </tr>\n",
       "  </tbody>\n",
       "</table>\n",
       "</div>"
      ],
      "text/plain": [
       "      county  cases  deaths\n",
       "0  Abbeville     84       0\n",
       "1     Acadia    741      21\n",
       "2   Accomack    116       0\n",
       "3        Ada   4264      41\n",
       "4      Adair    325       8"
      ]
     },
     "execution_count": 2,
     "metadata": {},
     "output_type": "execute_result"
    }
   ],
   "source": [
    "dataset = pd.read_csv(\"./Dataset/base-covid-19-us.csv\")\n",
    "dataset.head()"
   ]
  },
  {
   "cell_type": "code",
   "execution_count": 3,
   "metadata": {
    "colab": {
     "base_uri": "https://localhost:8080/",
     "height": 34
    },
    "colab_type": "code",
    "id": "rJTipPtuKqGp",
    "outputId": "9343d3e3-b1b8-465e-88e0-8d213da3f52b"
   },
   "outputs": [
    {
     "data": {
      "text/plain": [
       "(1570, 3)"
      ]
     },
     "execution_count": 3,
     "metadata": {},
     "output_type": "execute_result"
    }
   ],
   "source": [
    "dataset.shape"
   ]
  },
  {
   "cell_type": "code",
   "execution_count": 4,
   "metadata": {
    "colab": {},
    "colab_type": "code",
    "id": "SWsCdz0SKqGr"
   },
   "outputs": [],
   "source": [
    "dataset.sort_values(by=['deaths'], inplace=True)"
   ]
  },
  {
   "cell_type": "code",
   "execution_count": 5,
   "metadata": {
    "colab": {
     "base_uri": "https://localhost:8080/",
     "height": 282
    },
    "colab_type": "code",
    "id": "RqmLHZAtKqGt",
    "outputId": "2e5f850a-dd5a-40bf-a588-b755844beabb"
   },
   "outputs": [
    {
     "data": {
      "text/plain": [
       "<matplotlib.collections.PathCollection at 0x7f6aa2c66908>"
      ]
     },
     "execution_count": 5,
     "metadata": {},
     "output_type": "execute_result"
    },
    {
     "data": {
      "image/png": "[encoded data removed]",
      "text/plain": [
       "<Figure size 432x288 with 1 Axes>"
      ]
     },
     "metadata": {
      "needs_background": "light"
     },
     "output_type": "display_data"
    }
   ],
   "source": [
    "cases = dataset['cases'].values\n",
    "deaths = dataset['deaths'].values\n",
    "X = np.array(list(zip(cases, deaths)))\n",
    "plt.scatter(cases, deaths, c='black', s=10)"
   ]
  },
  {
   "cell_type": "markdown",
   "metadata": {
    "colab_type": "text",
    "id": "6vV5GQrXKqGv"
   },
   "source": [
    "#### 3. Criando classe do KMeans"
   ]
  },
  {
   "cell_type": "code",
   "execution_count": 6,
   "metadata": {
    "colab": {},
    "colab_type": "code",
    "id": "m2UKis2QKqGw"
   },
   "outputs": [],
   "source": [
    "class K_Means:\n",
    "    def __init__(self, pontos, parada = 0.00000001, max_iter = 100):\n",
    "        self.k = 3\n",
    "        self.parada = parada\n",
    "        self.max_iter = max_iter\n",
    "        self.data = pontos\n",
    "\n",
    "    # Calculando distância euclidiana\n",
    "    def dist(self, a, b, ax=1):\n",
    "        return np.linalg.norm(a - b, axis=ax)\n",
    "\n",
    "    def fit(self):\n",
    "        # coordenada X centroide\n",
    "        centroids_x = np.random.randint(0, np.median(self.data), size=self.k)\n",
    "        # coordenada Y centroide\n",
    "        centroids_y = np.random.randint(0, np.median(self.data), size=self.k)\n",
    "        self.centroids = np.array(list(zip(centroids_x, centroids_y)), dtype=np.float32)\n",
    "        \n",
    "        # armazenando o valor dos centroides quando ele for atualizado\n",
    "        self.centroids_old = np.zeros(self.centroids.shape)\n",
    "        \n",
    "        # label dos clusters \n",
    "        self.clusters = np.zeros(len(self.data))\n",
    "        # distancia entre centroide novo e centroide antigo\n",
    "        error = self.dist(self.centroids, self.centroids_old, None)\n",
    "        # Loop de treinamento\n",
    "        for i in range(self.max_iter):\n",
    "            # atribuindo cada valor ao cluster mais próximo\n",
    "            for i in range(len(self.data)):\n",
    "                distances = self.dist(self.data[i], self.centroids)\n",
    "                self.cluster = np.argmin(distances)\n",
    "                self.clusters[i] = self.cluster\n",
    "            # guardando valores do centroide antigo\n",
    "            self.centroids_old = deepcopy(self.centroids)\n",
    "            # encontrando novo centroide\n",
    "            for i in range(self.k):\n",
    "                self.points = [self.data[j] for j in range(len(self.data)) if self.clusters[j] == i]\n",
    "                self.centroids[i] = np.mean(self.points, axis=0)\n",
    "            error = self.dist(self.centroids, self.centroids_old, None)\n",
    "            if error <= self.parada:\n",
    "                break"
   ]
  },
  {
   "cell_type": "markdown",
   "metadata": {
    "colab_type": "text",
    "id": "IuD8Geo6KqGz"
   },
   "source": [
    "#### 4. Inicializando a classe com os parametros desejados do exercício e realizando o treinamento"
   ]
  },
  {
   "cell_type": "code",
   "execution_count": 7,
   "metadata": {
    "colab": {},
    "colab_type": "code",
    "id": "N7I50joxKqGz"
   },
   "outputs": [],
   "source": [
    "kmeans = K_Means(pontos = X, parada = 0.0001, max_iter = 100)\n",
    "kmeans.fit()"
   ]
  },
  {
   "cell_type": "code",
   "execution_count": 8,
   "metadata": {
    "colab": {
     "base_uri": "https://localhost:8080/",
     "height": 68
    },
    "colab_type": "code",
    "id": "dEQag21zKqG1",
    "outputId": "43d25d76-d798-432b-dd6f-c1546d90b1c1"
   },
   "outputs": [
    {
     "data": {
      "text/plain": [
       "array([[1.1869150e+03, 2.8396652e+01],\n",
       "       [8.8945375e+04, 2.1148750e+03],\n",
       "       [8.6882400e+05, 3.1887000e+04]], dtype=float32)"
      ]
     },
     "execution_count": 8,
     "metadata": {},
     "output_type": "execute_result"
    }
   ],
   "source": [
    "kmeans.centroids"
   ]
  },
  {
   "cell_type": "code",
   "execution_count": 9,
   "metadata": {
    "colab": {},
    "colab_type": "code",
    "id": "AeCd2hdNKqG4"
   },
   "outputs": [],
   "source": [
    "dataset['cluster'] = kmeans.clusters"
   ]
  },
  {
   "cell_type": "code",
   "execution_count": 10,
   "metadata": {
    "colab": {
     "base_uri": "https://localhost:8080/",
     "height": 204
    },
    "colab_type": "code",
    "id": "OSwfR63yKqG6",
    "outputId": "35a32ca0-6d71-45b1-ed75-fd0e81c25aec"
   },
   "outputs": [
    {
     "name": "stdout",
     "output_type": "stream",
     "text": [
      "<class 'pandas.core.frame.DataFrame'>\n",
      "Int64Index: 1570 entries, 0 to 995\n",
      "Data columns (total 4 columns):\n",
      " #   Column   Non-Null Count  Dtype  \n",
      "---  ------   --------------  -----  \n",
      " 0   county   1570 non-null   object \n",
      " 1   cases    1570 non-null   int64  \n",
      " 2   deaths   1570 non-null   int64  \n",
      " 3   cluster  1570 non-null   float64\n",
      "dtypes: float64(1), int64(2), object(1)\n",
      "memory usage: 61.3+ KB\n"
     ]
    }
   ],
   "source": [
    "dataset.info()"
   ]
  },
  {
   "cell_type": "code",
   "execution_count": 11,
   "metadata": {
    "colab": {
     "base_uri": "https://localhost:8080/",
     "height": 204
    },
    "colab_type": "code",
    "id": "U7FHfnPjKqG9",
    "outputId": "da3586da-c459-4a91-cb09-fe88d75b7d85"
   },
   "outputs": [
    {
     "data": {
      "text/html": [
       "<div>\n",
       "<style scoped>\n",
       "    .dataframe tbody tr th:only-of-type {\n",
       "        vertical-align: middle;\n",
       "    }\n",
       "\n",
       "    .dataframe tbody tr th {\n",
       "        vertical-align: top;\n",
       "    }\n",
       "\n",
       "    .dataframe thead th {\n",
       "        text-align: right;\n",
       "    }\n",
       "</style>\n",
       "<table border=\"1\" class=\"dataframe\">\n",
       "  <thead>\n",
       "    <tr style=\"text-align: right;\">\n",
       "      <th></th>\n",
       "      <th>county</th>\n",
       "      <th>cases</th>\n",
       "      <th>deaths</th>\n",
       "      <th>cluster</th>\n",
       "    </tr>\n",
       "  </thead>\n",
       "  <tbody>\n",
       "    <tr>\n",
       "      <th>0</th>\n",
       "      <td>Abbeville</td>\n",
       "      <td>84</td>\n",
       "      <td>0</td>\n",
       "      <td>0.0</td>\n",
       "    </tr>\n",
       "    <tr>\n",
       "      <th>865</th>\n",
       "      <td>Manitowoc</td>\n",
       "      <td>17</td>\n",
       "      <td>0</td>\n",
       "      <td>0.0</td>\n",
       "    </tr>\n",
       "    <tr>\n",
       "      <th>866</th>\n",
       "      <td>Marathon</td>\n",
       "      <td>108</td>\n",
       "      <td>0</td>\n",
       "      <td>0.0</td>\n",
       "    </tr>\n",
       "    <tr>\n",
       "      <th>869</th>\n",
       "      <td>Maries</td>\n",
       "      <td>20</td>\n",
       "      <td>0</td>\n",
       "      <td>0.0</td>\n",
       "    </tr>\n",
       "    <tr>\n",
       "      <th>871</th>\n",
       "      <td>Marinette</td>\n",
       "      <td>27</td>\n",
       "      <td>0</td>\n",
       "      <td>0.0</td>\n",
       "    </tr>\n",
       "  </tbody>\n",
       "</table>\n",
       "</div>"
      ],
      "text/plain": [
       "        county  cases  deaths  cluster\n",
       "0    Abbeville     84       0      0.0\n",
       "865  Manitowoc     17       0      0.0\n",
       "866   Marathon    108       0      0.0\n",
       "869     Maries     20       0      0.0\n",
       "871  Marinette     27       0      0.0"
      ]
     },
     "execution_count": 11,
     "metadata": {},
     "output_type": "execute_result"
    }
   ],
   "source": [
    "dataset.head()"
   ]
  },
  {
   "cell_type": "markdown",
   "metadata": {
    "colab_type": "text",
    "id": "XC6PmG7UKqG_"
   },
   "source": [
    "#### 5. Visualizando graficamente"
   ]
  },
  {
   "cell_type": "code",
   "execution_count": 12,
   "metadata": {
    "colab": {
     "base_uri": "https://localhost:8080/",
     "height": 279
    },
    "colab_type": "code",
    "id": "d2Dn9LEMKqG_",
    "outputId": "2582dfdc-1270-4e84-8102-b87657896340"
   },
   "outputs": [
    {
     "data": {
      "image/png": "[encoded data removed]",
      "text/plain": [
       "<Figure size 432x288 with 1 Axes>"
      ]
     },
     "metadata": {
      "needs_background": "light"
     },
     "output_type": "display_data"
    }
   ],
   "source": [
    "def plot_Kmeans():\n",
    "  colors = ['r', 'g', 'b', 'y', 'c', 'm']\n",
    "  ig, ax = plt.subplots()\n",
    "  for i in range(kmeans.k):\n",
    "        points = np.array([X[j] for j in range(len(X)) if kmeans.clusters[j] == i])\n",
    "        ax.scatter(points[:, 0], points[:, 1], s=7, c=colors[i])\n",
    "        ax.scatter(kmeans.centroids[:, 0], kmeans.centroids[:, 1], marker='X', s=100, c='black')       \n",
    "        ax.set_xlabel('Cases')\n",
    "        ax.set_ylabel('Deaths')\n",
    "plot_Kmeans()"
   ]
  },
  {
   "cell_type": "code",
   "execution_count": 13,
   "metadata": {
    "colab": {
     "base_uri": "https://localhost:8080/",
     "height": 68
    },
    "colab_type": "code",
    "id": "86-wn4hbKqHB",
    "outputId": "9ec94c92-54ef-4f98-ba7f-d10a8efbf706"
   },
   "outputs": [
    {
     "data": {
      "text/plain": [
       "array([[1.1869150e+03, 2.8396652e+01],\n",
       "       [8.8945375e+04, 2.1148750e+03],\n",
       "       [8.6882400e+05, 3.1887000e+04]], dtype=float32)"
      ]
     },
     "execution_count": 13,
     "metadata": {},
     "output_type": "execute_result"
    }
   ],
   "source": [
    "kmeans.centroids"
   ]
  },
  {
   "cell_type": "markdown",
   "metadata": {
    "colab_type": "text",
    "id": "SkulBiseKqHD"
   },
   "source": [
    "**Resposta**: <br>\n",
    "Os clusters representam os estados com base na quantidade de casos e mortes do COVID-19.\n",
    "- O primeiro cluster (verde), representa os estados que tiveram baixa quantidade de casos e mortes devido ao COVID-19\n",
    "- O segundo cluster(azul), representa os estados que tiveram quantidade moderada/alta de casos e mortes devido ao COVID-19.\n",
    "- O terceiro cluster (vermelho), representa o estado de New York (possuem uma quantidade muito elevada de casos de COVID-19\n"
   ]
  },
  {
   "cell_type": "markdown",
   "metadata": {
    "colab_type": "text",
    "id": "c88Ea7w3KqHD"
   },
   "source": [
    "#### 6. Para cada cluster, também devem ser exibidas as distâncias médias entre os pontos e seu respectivo centróide final"
   ]
  },
  {
   "cell_type": "code",
   "execution_count": 14,
   "metadata": {
    "colab": {},
    "colab_type": "code",
    "id": "6jB5VyWJKqHD"
   },
   "outputs": [],
   "source": [
    "dataset['centroide_x'] = np.nan\n",
    "dataset['centroide_y'] = np.nan"
   ]
  },
  {
   "cell_type": "code",
   "execution_count": 15,
   "metadata": {
    "colab": {},
    "colab_type": "code",
    "id": "TwlvlqTyKqHF"
   },
   "outputs": [],
   "source": [
    "dataset.loc[dataset['cluster'] == 0.0, 'centroide_x'] = kmeans.centroids[0][0]\n",
    "dataset.loc[dataset['cluster'] == 0.0, 'centroide_y'] = kmeans.centroids[0][1]\n",
    "dataset.loc[dataset['cluster'] == 1.0, 'centroide_x'] = kmeans.centroids[1][0]\n",
    "dataset.loc[dataset['cluster'] == 1.0, 'centroide_y'] = kmeans.centroids[1][1]\n",
    "dataset.loc[dataset['cluster'] == 2.0, 'centroide_x'] = kmeans.centroids[2][0]\n",
    "dataset.loc[dataset['cluster'] == 2.0, 'centroide_y'] = kmeans.centroids[2][1]"
   ]
  },
  {
   "cell_type": "code",
   "execution_count": 16,
   "metadata": {
    "colab": {},
    "colab_type": "code",
    "id": "ouT6TE0nKqHI"
   },
   "outputs": [],
   "source": [
    "dataset['distancia_x'] = np.abs(dataset['cases'] - dataset['centroide_x'])\n",
    "dataset['distancia_y'] = np.abs(dataset['deaths'] - dataset['centroide_y'])"
   ]
  },
  {
   "cell_type": "code",
   "execution_count": 17,
   "metadata": {
    "colab": {
     "base_uri": "https://localhost:8080/",
     "height": 119
    },
    "colab_type": "code",
    "id": "Zl5jabFuKqHJ",
    "outputId": "cdc2d14f-93c2-4309-a25f-7859a174da97"
   },
   "outputs": [
    {
     "name": "stdout",
     "output_type": "stream",
     "text": [
      "Distância média (eixo X) entre os pontos do centroide 0.0: 1638.429133506721\n",
      "Distância média (eixo Y) entre os pontos do centroide 0.0: 40.70434138979055\n",
      "Distância média (eixo X) entre os pontos do centroide 1.0: 37588.515625\n",
      "Distância média (eixo Y) entre os pontos do centroide 1.0: 813.609375\n",
      "Distância média (eixo X) entre os pontos do centroide 2.0: 0.0\n",
      "Distância média (eixo Y) entre os pontos do centroide 2.0: 0.0\n"
     ]
    }
   ],
   "source": [
    "print(\"Distância média (eixo X) entre os pontos do centroide 0.0: {}\".format(np.mean(dataset[dataset['cluster']==0.0]['distancia_x'])))\n",
    "print(\"Distância média (eixo Y) entre os pontos do centroide 0.0: {}\".format(np.mean(dataset[dataset['cluster']==0.0]['distancia_y'])))\n",
    "print(\"Distância média (eixo X) entre os pontos do centroide 1.0: {}\".format(np.mean(dataset[dataset['cluster']==1.0]['distancia_x'])))\n",
    "print(\"Distância média (eixo Y) entre os pontos do centroide 1.0: {}\".format(np.mean(dataset[dataset['cluster']==1.0]['distancia_y'])))\n",
    "print(\"Distância média (eixo X) entre os pontos do centroide 2.0: {}\".format(np.mean(dataset[dataset['cluster']==2.0]['distancia_x'])))\n",
    "print(\"Distância média (eixo Y) entre os pontos do centroide 2.0: {}\".format(np.mean(dataset[dataset['cluster']==2.0]['distancia_y'])))"
   ]
  },
  {
   "cell_type": "markdown",
   "metadata": {
    "colab_type": "text",
    "id": "uoOIi6i0KqHL"
   },
   "source": [
    "### **Obs**: Retirando o estado de New York, a visualização do cluster fica muito melhor."
   ]
  },
  {
   "cell_type": "markdown",
   "metadata": {
    "colab_type": "text",
    "id": "XQo32VK5KqHM"
   },
   "source": [
    "#### 7. Retirando o estado de New York\n",
    "- Retirar o estado de New York, utilizar o algoritmo Kmeans e visualizar os cluster."
   ]
  },
  {
   "cell_type": "code",
   "execution_count": 18,
   "metadata": {
    "colab": {},
    "colab_type": "code",
    "id": "fjS6Dok2KqHM"
   },
   "outputs": [],
   "source": [
    "dataset=dataset.iloc[:-1,:]"
   ]
  },
  {
   "cell_type": "code",
   "execution_count": 19,
   "metadata": {
    "colab": {
     "base_uri": "https://localhost:8080/",
     "height": 282
    },
    "colab_type": "code",
    "id": "9mCfHIhwKqHO",
    "outputId": "a45a5cb8-126f-4fea-a16c-18703324ec52"
   },
   "outputs": [
    {
     "data": {
      "text/plain": [
       "<matplotlib.collections.PathCollection at 0x7f6aa2bc68d0>"
      ]
     },
     "execution_count": 19,
     "metadata": {},
     "output_type": "execute_result"
    },
    {
     "data": {
      "image/png": "[encoded data removed]",
      "text/plain": [
       "<Figure size 432x288 with 1 Axes>"
      ]
     },
     "metadata": {
      "needs_background": "light"
     },
     "output_type": "display_data"
    }
   ],
   "source": [
    "cases = dataset['cases'].values\n",
    "deaths = dataset['deaths'].values\n",
    "X = np.array(list(zip(cases, deaths)))\n",
    "plt.scatter(cases, deaths, c='black', s=10)"
   ]
  },
  {
   "cell_type": "code",
   "execution_count": 20,
   "metadata": {
    "colab": {},
    "colab_type": "code",
    "id": "zwazesNYKqHQ"
   },
   "outputs": [],
   "source": [
    "kmeans = K_Means(pontos = X, parada = 0.0001, max_iter = 100)\n",
    "kmeans.fit()"
   ]
  },
  {
   "cell_type": "code",
   "execution_count": 21,
   "metadata": {
    "colab": {
     "base_uri": "https://localhost:8080/",
     "height": 265
    },
    "colab_type": "code",
    "id": "BVV04LapKqHR",
    "outputId": "7229ea9a-028a-4720-ec04-172e4b68fd7e"
   },
   "outputs": [
    {
     "data": {
      "image/png": "[encoded data removed]",
      "text/plain": [
       "<Figure size 432x288 with 1 Axes>"
      ]
     },
     "metadata": {
      "needs_background": "light"
     },
     "output_type": "display_data"
    }
   ],
   "source": [
    "colors = ['r', 'g', 'b', 'y', 'c', 'm']\n",
    "fig, ax = plt.subplots()\n",
    "for i in range(kmeans.k):\n",
    "      points = np.array([X[j] for j in range(len(X)) if kmeans.clusters[j] == i])\n",
    "      ax.scatter(points[:, 0], points[:, 1], s=7, c=colors[i])\n",
    "      ax.scatter(kmeans.centroids[:, 0], kmeans.centroids[:, 1], marker='X', s=100, c='black')"
   ]
  },
  {
   "cell_type": "code",
   "execution_count": 22,
   "metadata": {
    "colab": {
     "base_uri": "https://localhost:8080/",
     "height": 68
    },
    "colab_type": "code",
    "id": "ZkSnG6rvKqHT",
    "outputId": "5f381a81-bfbb-4bfd-f6a4-fc5477bdc1dd"
   },
   "outputs": [
    {
     "data": {
      "text/plain": [
       "array([[1.0462534e+03, 2.5062702e+01],\n",
       "       [1.8495167e+05, 2.7943333e+03],\n",
       "       [5.7526105e+04, 1.6201578e+03]], dtype=float32)"
      ]
     },
     "execution_count": 22,
     "metadata": {},
     "output_type": "execute_result"
    }
   ],
   "source": [
    "kmeans.centroids"
   ]
  },
  {
   "cell_type": "code",
   "execution_count": 23,
   "metadata": {
    "colab": {},
    "colab_type": "code",
    "id": "I2akUb9oKqHV"
   },
   "outputs": [],
   "source": [
    "dataset['cluster'] = kmeans.clusters"
   ]
  },
  {
   "cell_type": "code",
   "execution_count": 24,
   "metadata": {
    "colab": {},
    "colab_type": "code",
    "id": "oqhc-EgTKqHX"
   },
   "outputs": [],
   "source": [
    "dataset['centroide_x'] = np.nan\n",
    "dataset['centroide_y'] = np.nan"
   ]
  },
  {
   "cell_type": "code",
   "execution_count": 25,
   "metadata": {
    "colab": {},
    "colab_type": "code",
    "id": "cstjiEYEKqHZ"
   },
   "outputs": [],
   "source": [
    "dataset.loc[dataset['cluster'] == 0.0, 'centroide_x'] = kmeans.centroids[0][0]\n",
    "dataset.loc[dataset['cluster'] == 0.0, 'centroide_y'] = kmeans.centroids[0][1]\n",
    "dataset.loc[dataset['cluster'] == 1.0, 'centroide_x'] = kmeans.centroids[1][0]\n",
    "dataset.loc[dataset['cluster'] == 1.0, 'centroide_y'] = kmeans.centroids[1][1]\n",
    "dataset.loc[dataset['cluster'] == 2.0, 'centroide_x'] = kmeans.centroids[2][0]\n",
    "dataset.loc[dataset['cluster'] == 2.0, 'centroide_y'] = kmeans.centroids[2][1]"
   ]
  },
  {
   "cell_type": "code",
   "execution_count": 26,
   "metadata": {
    "colab": {},
    "colab_type": "code",
    "id": "I5Czd39EKqHb"
   },
   "outputs": [],
   "source": [
    "dataset['distancia_x'] = np.abs(dataset['cases'] - dataset['centroide_x'])\n",
    "dataset['distancia_y'] = np.abs(dataset['deaths'] - dataset['centroide_y'])"
   ]
  },
  {
   "cell_type": "code",
   "execution_count": 27,
   "metadata": {
    "colab": {
     "base_uri": "https://localhost:8080/",
     "height": 119
    },
    "colab_type": "code",
    "id": "fh3RZwuDKqHc",
    "outputId": "aade7ee7-0a39-48d8-aa23-fefc4cda4897"
   },
   "outputs": [
    {
     "name": "stdout",
     "output_type": "stream",
     "text": [
      "Distância média (eixo X) entre os pontos do centroide 0.0: 1413.854592873808\n",
      "Distância média (eixo Y) entre os pontos do centroide 0.0: 35.405063352973215\n",
      "Distância média (eixo X) entre os pontos do centroide 1.0: 4149.557291666667\n",
      "Distância média (eixo Y) entre os pontos do centroide 1.0: 821.111083984375\n",
      "Distância média (eixo X) entre os pontos do centroide 2.0: 15709.806126644737\n",
      "Distância média (eixo Y) entre os pontos do centroide 2.0: 834.6925177323191\n"
     ]
    }
   ],
   "source": [
    "print(\"Distância média (eixo X) entre os pontos do centroide 0.0: {}\".format(np.mean(dataset[dataset['cluster']==0.0]['distancia_x'])))\n",
    "print(\"Distância média (eixo Y) entre os pontos do centroide 0.0: {}\".format(np.mean(dataset[dataset['cluster']==0.0]['distancia_y'])))\n",
    "print(\"Distância média (eixo X) entre os pontos do centroide 1.0: {}\".format(np.mean(dataset[dataset['cluster']==1.0]['distancia_x'])))\n",
    "print(\"Distância média (eixo Y) entre os pontos do centroide 1.0: {}\".format(np.mean(dataset[dataset['cluster']==1.0]['distancia_y'])))\n",
    "print(\"Distância média (eixo X) entre os pontos do centroide 2.0: {}\".format(np.mean(dataset[dataset['cluster']==2.0]['distancia_x'])))\n",
    "print(\"Distância média (eixo Y) entre os pontos do centroide 2.0: {}\".format(np.mean(dataset[dataset['cluster']==2.0]['distancia_y'])))"
   ]
  },
  {
   "cell_type": "code",
   "execution_count": 28,
   "metadata": {
    "colab": {},
    "colab_type": "code",
    "id": "k_SEGmCUQH7C"
   },
   "outputs": [],
   "source": [
    "# Desafio: compare os resultados obtidos pelo seu algoritmo com os da função do K-Means do sklearn\n",
    "from sklearn.cluster import KMeans\n",
    "def fit_sKmeans(pontos = X, parada = 0.0001, max_iteracoes = 100,k=3):\n",
    "  sKmeans = KMeans(n_clusters=k, tol = parada, max_iter = max_iteracoes)\n",
    "  sKmeans.fit(pontos)\n",
    "  y_kmeans = sKmeans.predict(pontos)\n",
    "# desenhando   \n",
    "  plt.scatter(pontos[:, 0], pontos[:, 1], c=y_kmeans, s=7)\n",
    "  centers = sKmeans.cluster_centers_\n",
    "  plt.scatter(centers[:, 0], centers[:, 1], c='black', s=200, alpha=0.5)\n",
    "  plt.title('K-means com sklearn')\n",
    "  plt.xlabel('Cases')\n",
    "  plt.ylabel('Deaths')\n",
    "  print ('Centroids, com sklearn:',centers) \n"
   ]
  },
  {
   "cell_type": "code",
   "execution_count": 29,
   "metadata": {
    "colab": {
     "base_uri": "https://localhost:8080/",
     "height": 659
    },
    "colab_type": "code",
    "id": "HNncZB_Qd4wd",
    "outputId": "005d54bb-0bb6-4ff3-8fba-c5e8b0d55651"
   },
   "outputs": [
    {
     "name": "stdout",
     "output_type": "stream",
     "text": [
      "Centroids, com sklearn: [[1.04625339e+03 2.50627020e+01]\n",
      " [5.75261053e+04 1.62015789e+03]\n",
      " [1.84951667e+05 2.79433333e+03]]\n",
      "Centroides com k-means: [[1.0462534e+03 2.5062702e+01]\n",
      " [1.8495167e+05 2.7943333e+03]\n",
      " [5.7526105e+04 1.6201578e+03]]\n"
     ]
    },
    {
     "data": {
      "image/png": "[encoded data removed]",
      "text/plain": [
       "<Figure size 432x288 with 1 Axes>"
      ]
     },
     "metadata": {
      "needs_background": "light"
     },
     "output_type": "display_data"
    },
    {
     "data": {
      "image/png": "[encoded data removed]",
      "text/plain": [
       "<Figure size 432x288 with 1 Axes>"
      ]
     },
     "metadata": {
      "needs_background": "light"
     },
     "output_type": "display_data"
    }
   ],
   "source": [
    "#executando - com sklearn\n",
    "fit_sKmeans()\n",
    "# k_means sem o sklearn\n",
    "plot_Kmeans()\n",
    "print ('Centroides com k-means:', kmeans.centroids) "
   ]
  },
  {
   "cell_type": "code",
   "execution_count": null,
   "metadata": {},
   "outputs": [],
   "source": []
  }
 ],
 "metadata": {
  "colab": {
   "name": "kmeans_scratch.ipynb",
   "provenance": []
  },
  "kernelspec": {
   "display_name": "Python 3",
   "language": "python",
   "name": "python3"
  },
  "language_info": {
   "codemirror_mode": {
    "name": "ipython",
    "version": 3
   },
   "file_extension": ".py",
   "mimetype": "text/x-python",
   "name": "python",
   "nbconvert_exporter": "python",
   "pygments_lexer": "ipython3",
   "version": "3.6.10"
  }
 },
 "nbformat": 4,
 "nbformat_minor": 1
}
