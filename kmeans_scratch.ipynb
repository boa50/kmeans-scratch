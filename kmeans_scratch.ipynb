{
  "nbformat": 4,
  "nbformat_minor": 0,
  "metadata": {
    "kernelspec": {
      "display_name": "Python 3",
      "language": "python",
      "name": "python3"
    },
    "language_info": {
      "codemirror_mode": {
        "name": "ipython",
        "version": 3
      },
      "file_extension": ".py",
      "mimetype": "text/x-python",
      "name": "python",
      "nbconvert_exporter": "python",
      "pygments_lexer": "ipython3",
      "version": "3.6.10"
    },
    "colab": {
      "name": "Trabalho 01 - kmeans_scratch",
      "provenance": []
    }
  },
  "cells": [
    {
      "cell_type": "markdown",
      "metadata": {
        "id": "Pt5a8HBZl4n9",
        "colab_type": "text"
      },
      "source": [
        "# Tarefa 1: Aprendizado Não-Supervisionado"
      ]
    },
    {
      "cell_type": "markdown",
      "metadata": {
        "id": "OeDfzZR5l4n9",
        "colab_type": "text"
      },
      "source": [
        "**Autor**: Matheus Jericó Palhares <br>\n",
        "**LinkedIn**: https://linkedin.com/in/matheusjerico <br>\n",
        "**Github**: https://github.com/matheusjerico"
      ]
    },
    {
      "cell_type": "markdown",
      "metadata": {
        "id": "Yj4M3nqpl4n-",
        "colab_type": "text"
      },
      "source": [
        "### 1) Implementar a função “fit_k_means(pontos, parada, max_iter)”, com K fixo e igual a 3. Retorne os centróides finais.\n",
        "\n",
        "**Variáveis**:\n",
        "- pontos: conjunto de pontos 2D (casos x mortes) que serão clusterizados\n",
        "- parada: valor da variação dos clusters que indicará o fim do treinamento, i.e., se distancia(centroide_antigo, centroide_novo) < parada então termine o treinamento\n",
        "- max_iter: quantidade máxima de vezes que o algoritmo deve ser repetido caso “parada” não seja alcançada\n"
      ]
    },
    {
      "cell_type": "markdown",
      "metadata": {
        "id": "XQ9N7ak1l4n_",
        "colab_type": "text"
      },
      "source": [
        "O relatório será o notebook exportado para um arquivo HTML e deve conter:\n",
        "- Um scatter plot mostrando os centróides (com marcador x) e seus respectivos pontos (cada cluster deve estar em uma cor distinta)\n",
        "- Para cada cluster, também devem ser exibidas as distâncias médias entre os pontos e seu respectivo centróide final\n",
        "- Discorra sobre cada cluster: o que eles indicam?\n"
      ]
    },
    {
      "cell_type": "markdown",
      "metadata": {
        "id": "8UGyDEl1l4n_",
        "colab_type": "text"
      },
      "source": [
        "#### 1. Bibliotecas"
      ]
    },
    {
      "cell_type": "code",
      "metadata": {
        "id": "N76SxvSMl4oA",
        "colab_type": "code",
        "colab": {}
      },
      "source": [
        "import numpy as np\n",
        "import matplotlib.pyplot as plt\n",
        "import pandas as pd\n",
        "import random as rd\n",
        "from copy import deepcopy"
      ],
      "execution_count": 0,
      "outputs": []
    },
    {
      "cell_type": "markdown",
      "metadata": {
        "id": "SgqcTbASl4oC",
        "colab_type": "text"
      },
      "source": [
        "#### 2. Carregando dados"
      ]
    },
    {
      "cell_type": "code",
      "metadata": {
        "id": "_cZu176pl4oD",
        "colab_type": "code",
        "colab": {
          "base_uri": "https://localhost:8080/",
          "height": 204
        },
        "outputId": "e1a54b18-9bb5-4365-9a31-6c065796ebba"
      },
      "source": [
        "dataset = pd.read_csv(\"https://raw.githubusercontent.com/matheusjerico/kmeans-scratch/master/Dataset/base-covid-19-us.csv\")\n",
        "dataset.head()"
      ],
      "execution_count": 2,
      "outputs": [
        {
          "output_type": "execute_result",
          "data": {
            "text/html": [
              "<div>\n",
              "<style scoped>\n",
              "    .dataframe tbody tr th:only-of-type {\n",
              "        vertical-align: middle;\n",
              "    }\n",
              "\n",
              "    .dataframe tbody tr th {\n",
              "        vertical-align: top;\n",
              "    }\n",
              "\n",
              "    .dataframe thead th {\n",
              "        text-align: right;\n",
              "    }\n",
              "</style>\n",
              "<table border=\"1\" class=\"dataframe\">\n",
              "  <thead>\n",
              "    <tr style=\"text-align: right;\">\n",
              "      <th></th>\n",
              "      <th>county</th>\n",
              "      <th>cases</th>\n",
              "      <th>deaths</th>\n",
              "    </tr>\n",
              "  </thead>\n",
              "  <tbody>\n",
              "    <tr>\n",
              "      <th>0</th>\n",
              "      <td>Abbeville</td>\n",
              "      <td>84</td>\n",
              "      <td>0</td>\n",
              "    </tr>\n",
              "    <tr>\n",
              "      <th>1</th>\n",
              "      <td>Acadia</td>\n",
              "      <td>741</td>\n",
              "      <td>21</td>\n",
              "    </tr>\n",
              "    <tr>\n",
              "      <th>2</th>\n",
              "      <td>Accomack</td>\n",
              "      <td>116</td>\n",
              "      <td>0</td>\n",
              "    </tr>\n",
              "    <tr>\n",
              "      <th>3</th>\n",
              "      <td>Ada</td>\n",
              "      <td>4264</td>\n",
              "      <td>41</td>\n",
              "    </tr>\n",
              "    <tr>\n",
              "      <th>4</th>\n",
              "      <td>Adair</td>\n",
              "      <td>325</td>\n",
              "      <td>8</td>\n",
              "    </tr>\n",
              "  </tbody>\n",
              "</table>\n",
              "</div>"
            ],
            "text/plain": [
              "      county  cases  deaths\n",
              "0  Abbeville     84       0\n",
              "1     Acadia    741      21\n",
              "2   Accomack    116       0\n",
              "3        Ada   4264      41\n",
              "4      Adair    325       8"
            ]
          },
          "metadata": {
            "tags": []
          },
          "execution_count": 2
        }
      ]
    },
    {
      "cell_type": "code",
      "metadata": {
        "id": "CGT_Ydinl4oG",
        "colab_type": "code",
        "colab": {
          "base_uri": "https://localhost:8080/",
          "height": 36
        },
        "outputId": "e5c32b2c-92e8-4f87-e521-868779d522d6"
      },
      "source": [
        "dataset.shape"
      ],
      "execution_count": 3,
      "outputs": [
        {
          "output_type": "execute_result",
          "data": {
            "text/plain": [
              "(1570, 3)"
            ]
          },
          "metadata": {
            "tags": []
          },
          "execution_count": 3
        }
      ]
    },
    {
      "cell_type": "code",
      "metadata": {
        "id": "6RYvvs9Ll4oI",
        "colab_type": "code",
        "colab": {}
      },
      "source": [
        "dataset.sort_values(by=['deaths'], inplace=True)"
      ],
      "execution_count": 0,
      "outputs": []
    },
    {
      "cell_type": "code",
      "metadata": {
        "id": "Dlj36Orkl4oL",
        "colab_type": "code",
        "colab": {
          "base_uri": "https://localhost:8080/",
          "height": 284
        },
        "outputId": "18d7e86b-4b5b-473e-aed0-fefbc140dd3b"
      },
      "source": [
        "cases = dataset['cases'].values\n",
        "deaths = dataset['deaths'].values\n",
        "X = np.array(list(zip(cases, deaths)))\n",
        "plt.scatter(cases, deaths, c='black', s=10)"
      ],
      "execution_count": 5,
      "outputs": [
        {
          "output_type": "execute_result",
          "data": {
            "text/plain": [
              "<matplotlib.collections.PathCollection at 0x7f083bf5a278>"
            ]
          },
          "metadata": {
            "tags": []
          },
          "execution_count": 5
        },
        {
          "output_type": "display_data",
          "data": {
            "image/png": "[encoded data removed]",
            "text/plain": [
              "<Figure size 432x288 with 1 Axes>"
            ]
          },
          "metadata": {
            "tags": [],
            "needs_background": "light"
          }
        }
      ]
    },
    {
      "cell_type": "markdown",
      "metadata": {
        "id": "vhTVvVOEl4oN",
        "colab_type": "text"
      },
      "source": [
        "#### 3. Criando classe do KMeans"
      ]
    },
    {
      "cell_type": "code",
      "metadata": {
        "id": "9wM_qbvyl4oO",
        "colab_type": "code",
        "colab": {}
      },
      "source": [
        "class K_Means:\n",
        "    def __init__(self, k, pontos, parada = 0.00000001, max_iter = 100):\n",
        "        self.k = k\n",
        "        self.parada = parada\n",
        "        self.max_iter = max_iter\n",
        "        self.data = pontos\n",
        "\n",
        "    # Calculando distância euclidiana\n",
        "    def dist(self, a, b, ax=1):\n",
        "        return np.linalg.norm(a - b, axis=ax)\n",
        "\n",
        "    def fit(self):\n",
        "        # coordenada X centroide\n",
        "        centroids_x = np.random.randint(0, np.median(self.data), size=self.k)\n",
        "        # coordenada Y centroide\n",
        "        centroids_y = np.random.randint(0, np.median(self.data), size=self.k)\n",
        "        self.centroids = np.array(list(zip(centroids_x, centroids_y)), dtype=np.float32)\n",
        "        \n",
        "        # armazenando o valor dos centroides quando ele for atualizado\n",
        "        self.centroids_old = np.zeros(self.centroids.shape)\n",
        "        \n",
        "        # label dos clusters \n",
        "        self.clusters = np.zeros(len(self.data))\n",
        "        # distancia entre centroide novo e centroide antigo\n",
        "        error = self.dist(self.centroids, self.centroids_old, None)\n",
        "        # Loop de treinamento\n",
        "        for i in range(self.max_iter):\n",
        "            # atribuindo cada valor ao cluster mais próximo\n",
        "            for i in range(len(self.data)):\n",
        "                distances = self.dist(self.data[i], self.centroids)\n",
        "                self.cluster = np.argmin(distances)\n",
        "                self.clusters[i] = self.cluster\n",
        "            # guardando valores do centroide antigo\n",
        "            self.centroids_old = deepcopy(self.centroids)\n",
        "            # encontrando novo centroide\n",
        "            for i in range(self.k):\n",
        "                self.points = [self.data[j] for j in range(len(self.data)) if self.clusters[j] == i]\n",
        "                if len(self.points) > 0:\n",
        "                  self.centroids[i] = np.mean(self.points, axis=0)\n",
        "            error = self.dist(self.centroids, self.centroids_old, None)\n",
        "            if error <= self.parada:\n",
        "                break"
      ],
      "execution_count": 0,
      "outputs": []
    },
    {
      "cell_type": "markdown",
      "metadata": {
        "id": "qnUlMaP_l4oR",
        "colab_type": "text"
      },
      "source": [
        "#### 4. Inicializando a classe com os parametros desejados do exercício e realizando o treinamento"
      ]
    },
    {
      "cell_type": "code",
      "metadata": {
        "id": "SsD-VWWAl4oS",
        "colab_type": "code",
        "colab": {}
      },
      "source": [
        "kmeans = K_Means(k = 3, pontos = X, parada = 0.0001, max_iter = 100)\n",
        "kmeans.fit()"
      ],
      "execution_count": 0,
      "outputs": []
    },
    {
      "cell_type": "code",
      "metadata": {
        "id": "4sm7e7nFl4oU",
        "colab_type": "code",
        "colab": {
          "base_uri": "https://localhost:8080/",
          "height": 74
        },
        "outputId": "fde683b3-9f83-482d-aabe-06c3daf9491e"
      },
      "source": [
        "kmeans.centroids"
      ],
      "execution_count": 8,
      "outputs": [
        {
          "output_type": "execute_result",
          "data": {
            "text/plain": [
              "array([[8.8945375e+04, 2.1148750e+03],\n",
              "       [8.6882400e+05, 3.1887000e+04],\n",
              "       [1.1869150e+03, 2.8396652e+01]], dtype=float32)"
            ]
          },
          "metadata": {
            "tags": []
          },
          "execution_count": 8
        }
      ]
    },
    {
      "cell_type": "code",
      "metadata": {
        "id": "zfsYA88xl4oW",
        "colab_type": "code",
        "colab": {}
      },
      "source": [
        "dataset['cluster'] = kmeans.clusters"
      ],
      "execution_count": 0,
      "outputs": []
    },
    {
      "cell_type": "code",
      "metadata": {
        "id": "yX43MDPwl4oZ",
        "colab_type": "code",
        "colab": {
          "base_uri": "https://localhost:8080/",
          "height": 226
        },
        "outputId": "ba8e6f55-e262-4add-ce08-287387446d39"
      },
      "source": [
        "dataset.info()"
      ],
      "execution_count": 10,
      "outputs": [
        {
          "output_type": "stream",
          "text": [
            "<class 'pandas.core.frame.DataFrame'>\n",
            "Int64Index: 1570 entries, 0 to 995\n",
            "Data columns (total 4 columns):\n",
            " #   Column   Non-Null Count  Dtype  \n",
            "---  ------   --------------  -----  \n",
            " 0   county   1570 non-null   object \n",
            " 1   cases    1570 non-null   int64  \n",
            " 2   deaths   1570 non-null   int64  \n",
            " 3   cluster  1570 non-null   float64\n",
            "dtypes: float64(1), int64(2), object(1)\n",
            "memory usage: 61.3+ KB\n"
          ],
          "name": "stdout"
        }
      ]
    },
    {
      "cell_type": "code",
      "metadata": {
        "id": "oc8FYIFcl4od",
        "colab_type": "code",
        "colab": {
          "base_uri": "https://localhost:8080/",
          "height": 204
        },
        "outputId": "0272547b-e8c1-40e3-bbce-79ced98661b7"
      },
      "source": [
        "dataset.head()"
      ],
      "execution_count": 11,
      "outputs": [
        {
          "output_type": "execute_result",
          "data": {
            "text/html": [
              "<div>\n",
              "<style scoped>\n",
              "    .dataframe tbody tr th:only-of-type {\n",
              "        vertical-align: middle;\n",
              "    }\n",
              "\n",
              "    .dataframe tbody tr th {\n",
              "        vertical-align: top;\n",
              "    }\n",
              "\n",
              "    .dataframe thead th {\n",
              "        text-align: right;\n",
              "    }\n",
              "</style>\n",
              "<table border=\"1\" class=\"dataframe\">\n",
              "  <thead>\n",
              "    <tr style=\"text-align: right;\">\n",
              "      <th></th>\n",
              "      <th>county</th>\n",
              "      <th>cases</th>\n",
              "      <th>deaths</th>\n",
              "      <th>cluster</th>\n",
              "    </tr>\n",
              "  </thead>\n",
              "  <tbody>\n",
              "    <tr>\n",
              "      <th>0</th>\n",
              "      <td>Abbeville</td>\n",
              "      <td>84</td>\n",
              "      <td>0</td>\n",
              "      <td>2.0</td>\n",
              "    </tr>\n",
              "    <tr>\n",
              "      <th>865</th>\n",
              "      <td>Manitowoc</td>\n",
              "      <td>17</td>\n",
              "      <td>0</td>\n",
              "      <td>2.0</td>\n",
              "    </tr>\n",
              "    <tr>\n",
              "      <th>866</th>\n",
              "      <td>Marathon</td>\n",
              "      <td>108</td>\n",
              "      <td>0</td>\n",
              "      <td>2.0</td>\n",
              "    </tr>\n",
              "    <tr>\n",
              "      <th>869</th>\n",
              "      <td>Maries</td>\n",
              "      <td>20</td>\n",
              "      <td>0</td>\n",
              "      <td>2.0</td>\n",
              "    </tr>\n",
              "    <tr>\n",
              "      <th>871</th>\n",
              "      <td>Marinette</td>\n",
              "      <td>27</td>\n",
              "      <td>0</td>\n",
              "      <td>2.0</td>\n",
              "    </tr>\n",
              "  </tbody>\n",
              "</table>\n",
              "</div>"
            ],
            "text/plain": [
              "        county  cases  deaths  cluster\n",
              "0    Abbeville     84       0      2.0\n",
              "865  Manitowoc     17       0      2.0\n",
              "866   Marathon    108       0      2.0\n",
              "869     Maries     20       0      2.0\n",
              "871  Marinette     27       0      2.0"
            ]
          },
          "metadata": {
            "tags": []
          },
          "execution_count": 11
        }
      ]
    },
    {
      "cell_type": "markdown",
      "metadata": {
        "id": "n7QfKdq8l4of",
        "colab_type": "text"
      },
      "source": [
        "#### 5. Visualizando graficamente"
      ]
    },
    {
      "cell_type": "code",
      "metadata": {
        "id": "h1GYNwHwl4of",
        "colab_type": "code",
        "colab": {
          "base_uri": "https://localhost:8080/",
          "height": 265
        },
        "outputId": "30400cfa-df3c-4229-f7bb-2876b86a9961"
      },
      "source": [
        "colors = int(kmeans.k/6 + 1)*['r', 'g', 'b', 'y', 'c', 'm']\n",
        "fig, ax = plt.subplots()\n",
        "for i in range(kmeans.k):\n",
        "        points = np.array([X[j] for j in range(len(X)) if kmeans.clusters[j] == i])\n",
        "        ax.scatter(points[:, 0], points[:, 1], s=7, c=colors[i])\n",
        "        ax.scatter(kmeans.centroids[:, 0], kmeans.centroids[:, 1], marker='X', s=100, c='black')"
      ],
      "execution_count": 12,
      "outputs": [
        {
          "output_type": "display_data",
          "data": {
            "image/png": "[encoded data removed]",
            "text/plain": [
              "<Figure size 432x288 with 1 Axes>"
            ]
          },
          "metadata": {
            "tags": [],
            "needs_background": "light"
          }
        }
      ]
    },
    {
      "cell_type": "code",
      "metadata": {
        "id": "QMsssy_Sl4oi",
        "colab_type": "code",
        "colab": {
          "base_uri": "https://localhost:8080/",
          "height": 74
        },
        "outputId": "924a856d-36aa-4ee4-ce4a-de7f1f05af9e"
      },
      "source": [
        "kmeans.centroids"
      ],
      "execution_count": 13,
      "outputs": [
        {
          "output_type": "execute_result",
          "data": {
            "text/plain": [
              "array([[8.8945375e+04, 2.1148750e+03],\n",
              "       [8.6882400e+05, 3.1887000e+04],\n",
              "       [1.1869150e+03, 2.8396652e+01]], dtype=float32)"
            ]
          },
          "metadata": {
            "tags": []
          },
          "execution_count": 13
        }
      ]
    },
    {
      "cell_type": "markdown",
      "metadata": {
        "id": "4GFzzczpl4ok",
        "colab_type": "text"
      },
      "source": [
        "**Resposta**: <br>\n",
        "Os clusters representam os estados com base na quantidade de casos e mortes do COVID-19.\n",
        "- O primeiro cluster (verde), representa os estados que tiveram baixa quantidade de casos e mortes devido ao COVID-19\n",
        "- O segundo cluster(azul), representa os estados que tiveram quantidade moderada/alta de casos e mortes devido ao COVID-19.\n",
        "- O terceiro cluster (vermelho), representa o estado de New York (possuem uma quantidade muito elevada de casos de COVID-19\n"
      ]
    },
    {
      "cell_type": "markdown",
      "metadata": {
        "id": "hpwBj_eMl4ok",
        "colab_type": "text"
      },
      "source": [
        "#### 6. Para cada cluster, também devem ser exibidas as distâncias médias entre os pontos e seu respectivo centróide final"
      ]
    },
    {
      "cell_type": "code",
      "metadata": {
        "id": "H2i7r8pAl4ok",
        "colab_type": "code",
        "colab": {}
      },
      "source": [
        "dataset['centroide_x'] = np.nan\n",
        "dataset['centroide_y'] = np.nan"
      ],
      "execution_count": 0,
      "outputs": []
    },
    {
      "cell_type": "code",
      "metadata": {
        "id": "wrXiMEAjl4oo",
        "colab_type": "code",
        "colab": {}
      },
      "source": [
        "for i in range(kmeans.k):\n",
        "  dataset.loc[dataset['cluster'] == i, 'centroide_x'] = kmeans.centroids[i][0]\n",
        "  dataset.loc[dataset['cluster'] == i, 'centroide_y'] = kmeans.centroids[i][1]"
      ],
      "execution_count": 0,
      "outputs": []
    },
    {
      "cell_type": "code",
      "metadata": {
        "id": "9Q2RLrfMl4oq",
        "colab_type": "code",
        "colab": {}
      },
      "source": [
        "dataset['distancia_x'] = np.abs(dataset['cases'] - dataset['centroide_x'])\n",
        "dataset['distancia_y'] = np.abs(dataset['deaths'] - dataset['centroide_y'])"
      ],
      "execution_count": 0,
      "outputs": []
    },
    {
      "cell_type": "code",
      "metadata": {
        "id": "pjmyHMKel4os",
        "colab_type": "code",
        "colab": {
          "base_uri": "https://localhost:8080/",
          "height": 131
        },
        "outputId": "4d1d4bde-7968-4b88-cfd1-19d9bab7e4a7"
      },
      "source": [
        "for i in range(kmeans.k):\n",
        "  print(\"Distância média (eixo X) entre os pontos do centroide {}: {}\".format(i, np.mean(dataset[dataset['cluster']==i]['distancia_x'])))\n",
        "  print(\"Distância média (eixo Y) entre os pontos do centroide {}: {}\".format(i, np.mean(dataset[dataset['cluster']==i]['distancia_y'])))"
      ],
      "execution_count": 17,
      "outputs": [
        {
          "output_type": "stream",
          "text": [
            "Distância média (eixo X) entre os pontos do centroide 0: 37588.515625\n",
            "Distância média (eixo Y) entre os pontos do centroide 0: 813.609375\n",
            "Distância média (eixo X) entre os pontos do centroide 1: 0.0\n",
            "Distância média (eixo Y) entre os pontos do centroide 1: 0.0\n",
            "Distância média (eixo X) entre os pontos do centroide 2: 1638.429133506721\n",
            "Distância média (eixo Y) entre os pontos do centroide 2: 40.70434138979055\n"
          ],
          "name": "stdout"
        }
      ]
    },
    {
      "cell_type": "markdown",
      "metadata": {
        "id": "0lMvSF_1l4ou",
        "colab_type": "text"
      },
      "source": [
        "### **Obs**: Retirando o estado de New York, a visualização do cluster fica muito melhor."
      ]
    },
    {
      "cell_type": "markdown",
      "metadata": {
        "id": "QjFRweoTl4ov",
        "colab_type": "text"
      },
      "source": [
        "#### 7. Retirando o estado de New York\n",
        "- Retirar o estado de New York, utilizar o algoritmo Kmeans e visualizar os cluster."
      ]
    },
    {
      "cell_type": "code",
      "metadata": {
        "id": "OzNAHT7-l4ov",
        "colab_type": "code",
        "colab": {}
      },
      "source": [
        "dataset=dataset.iloc[:-1,:]"
      ],
      "execution_count": 0,
      "outputs": []
    },
    {
      "cell_type": "code",
      "metadata": {
        "id": "p4lGXCsSl4ox",
        "colab_type": "code",
        "colab": {
          "base_uri": "https://localhost:8080/",
          "height": 284
        },
        "outputId": "a9f1ea6a-dd99-4c2c-d041-1e2157d5c51d"
      },
      "source": [
        "cases = dataset['cases'].values\n",
        "deaths = dataset['deaths'].values\n",
        "X = np.array(list(zip(cases, deaths)))\n",
        "plt.scatter(cases, deaths, c='black', s=10)"
      ],
      "execution_count": 19,
      "outputs": [
        {
          "output_type": "execute_result",
          "data": {
            "text/plain": [
              "<matplotlib.collections.PathCollection at 0x7f0838f66390>"
            ]
          },
          "metadata": {
            "tags": []
          },
          "execution_count": 19
        },
        {
          "output_type": "display_data",
          "data": {
            "image/png": "[encoded data removed]",
            "text/plain": [
              "<Figure size 432x288 with 1 Axes>"
            ]
          },
          "metadata": {
            "tags": [],
            "needs_background": "light"
          }
        }
      ]
    },
    {
      "cell_type": "code",
      "metadata": {
        "id": "xlNUDVshl4oz",
        "colab_type": "code",
        "colab": {}
      },
      "source": [
        "kmeans = K_Means(k = 4, pontos = X, parada = 0.0001, max_iter = 100)\n",
        "kmeans.fit()"
      ],
      "execution_count": 0,
      "outputs": []
    },
    {
      "cell_type": "code",
      "metadata": {
        "id": "6Un_-QUMl4o0",
        "colab_type": "code",
        "colab": {
          "base_uri": "https://localhost:8080/",
          "height": 265
        },
        "outputId": "03641435-2ef7-43f6-9d48-bb38b9c20d7b"
      },
      "source": [
        "colors = int(kmeans.k/6 + 1)*['r', 'g', 'b', 'y', 'c', 'm']\n",
        "fig, ax = plt.subplots()\n",
        "for i in range(kmeans.k):\n",
        "        points = np.array([X[j] for j in range(len(X)) if kmeans.clusters[j] == i])\n",
        "        ax.scatter(points[:, 0], points[:, 1], s=7, c=colors[i])\n",
        "        ax.scatter(kmeans.centroids[:, 0], kmeans.centroids[:, 1], marker='X', s=100, c='black')"
      ],
      "execution_count": 21,
      "outputs": [
        {
          "output_type": "display_data",
          "data": {
            "image/png": "[encoded data removed]",
            "text/plain": [
              "<Figure size 432x288 with 1 Axes>"
            ]
          },
          "metadata": {
            "tags": [],
            "needs_background": "light"
          }
        }
      ]
    },
    {
      "cell_type": "code",
      "metadata": {
        "id": "i4qyBm8jl4o2",
        "colab_type": "code",
        "colab": {
          "base_uri": "https://localhost:8080/",
          "height": 93
        },
        "outputId": "4bfbb968-880e-419c-c9ae-bd4f5e8e2166"
      },
      "source": [
        "kmeans.centroids"
      ],
      "execution_count": 22,
      "outputs": [
        {
          "output_type": "execute_result",
          "data": {
            "text/plain": [
              "array([[1.2876147e+04, 2.8992648e+02],\n",
              "       [5.4778259e+02, 1.3448346e+01],\n",
              "       [1.8495167e+05, 2.7943333e+03],\n",
              "       [6.0276824e+04, 1.7601765e+03]], dtype=float32)"
            ]
          },
          "metadata": {
            "tags": []
          },
          "execution_count": 22
        }
      ]
    },
    {
      "cell_type": "code",
      "metadata": {
        "id": "t0Q2bNm_l4o4",
        "colab_type": "code",
        "colab": {}
      },
      "source": [
        "dataset['cluster'] = kmeans.clusters"
      ],
      "execution_count": 0,
      "outputs": []
    },
    {
      "cell_type": "code",
      "metadata": {
        "id": "797tbZPzl4o6",
        "colab_type": "code",
        "colab": {}
      },
      "source": [
        "dataset['centroide_x'] = np.nan\n",
        "dataset['centroide_y'] = np.nan"
      ],
      "execution_count": 0,
      "outputs": []
    },
    {
      "cell_type": "code",
      "metadata": {
        "id": "D3eVdMpCl4o8",
        "colab_type": "code",
        "colab": {}
      },
      "source": [
        "for i in range(kmeans.k):\n",
        "  dataset.loc[dataset['cluster'] == i, 'centroide_x'] = kmeans.centroids[i][0]\n",
        "  dataset.loc[dataset['cluster'] == i, 'centroide_y'] = kmeans.centroids[i][1]"
      ],
      "execution_count": 0,
      "outputs": []
    },
    {
      "cell_type": "code",
      "metadata": {
        "id": "YJYZnSDbl4o-",
        "colab_type": "code",
        "colab": {}
      },
      "source": [
        "dataset['distancia_x'] = np.abs(dataset['cases'] - dataset['centroide_x'])\n",
        "dataset['distancia_y'] = np.abs(dataset['deaths'] - dataset['centroide_y'])"
      ],
      "execution_count": 0,
      "outputs": []
    },
    {
      "cell_type": "code",
      "metadata": {
        "id": "1pYXOQfdl4pA",
        "colab_type": "code",
        "colab": {
          "base_uri": "https://localhost:8080/",
          "height": 169
        },
        "outputId": "578d5b0b-3887-46e6-88fc-88747e6a7c9c"
      },
      "source": [
        "for i in range(kmeans.k):\n",
        "  print(\"Distância média (eixo X) entre os pontos do centroide {}: {}\".format(i, np.mean(dataset[dataset['cluster']==i]['distancia_x'])))\n",
        "  print(\"Distância média (eixo Y) entre os pontos do centroide {}: {}\".format(i, np.mean(dataset[dataset['cluster']==i]['distancia_y'])))"
      ],
      "execution_count": 27,
      "outputs": [
        {
          "output_type": "stream",
          "text": [
            "Distância média (eixo X) entre os pontos do centroide 0: 5097.556382123162\n",
            "Distância média (eixo Y) entre os pontos do centroide 0: 153.38408526252297\n",
            "Distância média (eixo X) entre os pontos do centroide 1: 660.0884450929218\n",
            "Distância média (eixo Y) entre os pontos do centroide 1: 18.168445818332465\n",
            "Distância média (eixo X) entre os pontos do centroide 2: 4149.557291666667\n",
            "Distância média (eixo Y) entre os pontos do centroide 2: 821.111083984375\n",
            "Distância média (eixo X) entre os pontos do centroide 3: 14969.107306985294\n",
            "Distância média (eixo Y) entre os pontos do centroide 3: 791.2456772748162\n"
          ],
          "name": "stdout"
        }
      ]
    },
    {
      "cell_type": "markdown",
      "metadata": {
        "id": "IK9UCSAB-obC",
        "colab_type": "text"
      },
      "source": [
        "# Desafios"
      ]
    },
    {
      "cell_type": "markdown",
      "metadata": {
        "id": "N2KDurRR-s9c",
        "colab_type": "text"
      },
      "source": [
        "#### Método Elbow"
      ]
    },
    {
      "cell_type": "code",
      "metadata": {
        "id": "gHYswF_t37gU",
        "colab_type": "code",
        "colab": {}
      },
      "source": [
        "def dist(a, b, ax=1):\n",
        "  return np.linalg.norm(a - b, axis=ax)\n",
        "\n",
        "def elbow_plot(data, k_max):\n",
        "  dataset = data.copy()\n",
        "  dists = []\n",
        "\n",
        "  for i in range(k_max - 2):\n",
        "    kmeans = K_Means(k = i+2, pontos = X, parada = 0.0001, max_iter = 10)\n",
        "    kmeans.fit()\n",
        "\n",
        "    dataset['cluster'] = kmeans.clusters\n",
        "    dataset['centroide_x'] = np.nan\n",
        "    dataset['centroide_y'] = np.nan\n",
        "\n",
        "    for i in range(kmeans.k):\n",
        "      dataset.loc[dataset['cluster'] == i, 'centroide_x'] = kmeans.centroids[i][0]\n",
        "      dataset.loc[dataset['cluster'] == i, 'centroide_y'] = kmeans.centroids[i][1]\n",
        "\n",
        "    dataset['distancia'] = dist(\n",
        "        np.array(list(zip(dataset['cases'], dataset['deaths']))),\n",
        "        np.array(list(zip(dataset['centroide_x'], dataset['centroide_y'])))\n",
        "    )\n",
        "    dists.append([i+2, dataset['distancia'].mean()])\n",
        "\n",
        "  x = []\n",
        "  y = []\n",
        "\n",
        "  fig, ax = plt.subplots()\n",
        "  for i in range(len(dists)):\n",
        "    x.append(dists[i][0])\n",
        "    y.append(dists[i][1])\n",
        "\n",
        "  ax.plot(x, y, c='b', marker='x')"
      ],
      "execution_count": 0,
      "outputs": []
    },
    {
      "cell_type": "code",
      "metadata": {
        "id": "6QeucxSXCdOB",
        "colab_type": "code",
        "colab": {
          "base_uri": "https://localhost:8080/",
          "height": 265
        },
        "outputId": "97afa6d0-5873-4f63-adaa-7189bc258b41"
      },
      "source": [
        "elbow_plot(dataset, 15)"
      ],
      "execution_count": 30,
      "outputs": [
        {
          "output_type": "display_data",
          "data": {
            "image/png": "[encoded data removed]",
            "text/plain": [
              "<Figure size 432x288 with 1 Axes>"
            ]
          },
          "metadata": {
            "tags": [],
            "needs_background": "light"
          }
        }
      ]
    }
  ]
}