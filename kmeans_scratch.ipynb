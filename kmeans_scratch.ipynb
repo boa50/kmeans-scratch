{
  "nbformat": 4,
  "nbformat_minor": 0,
  "metadata": {
    "kernelspec": {
      "display_name": "Python 3",
      "language": "python",
      "name": "python3"
    },
    "language_info": {
      "codemirror_mode": {
        "name": "ipython",
        "version": 3
      },
      "file_extension": ".py",
      "mimetype": "text/x-python",
      "name": "python",
      "nbconvert_exporter": "python",
      "pygments_lexer": "ipython3",
      "version": "3.6.10"
    },
    "colab": {
      "name": "Trabalho 01 - kmeans_scratch",
      "provenance": []
    }
  },
  "cells": [
    {
      "cell_type": "markdown",
      "metadata": {
        "id": "Pt5a8HBZl4n9",
        "colab_type": "text"
      },
      "source": [
        "# Tarefa 1: Aprendizado Não-Supervisionado"
      ]
    },
    {
      "cell_type": "markdown",
      "metadata": {
        "id": "OeDfzZR5l4n9",
        "colab_type": "text"
      },
      "source": [
        "**Autor**: Matheus Jericó Palhares <br>\n",
        "**LinkedIn**: https://linkedin.com/in/matheusjerico <br>\n",
        "**Github**: https://github.com/matheusjerico"
      ]
    },
    {
      "cell_type": "markdown",
      "metadata": {
        "id": "Yj4M3nqpl4n-",
        "colab_type": "text"
      },
      "source": [
        "### 1) Implementar a função “fit_k_means(pontos, parada, max_iter)”, com K fixo e igual a 3. Retorne os centróides finais.\n",
        "\n",
        "**Variáveis**:\n",
        "- pontos: conjunto de pontos 2D (casos x mortes) que serão clusterizados\n",
        "- parada: valor da variação dos clusters que indicará o fim do treinamento, i.e., se distancia(centroide_antigo, centroide_novo) < parada então termine o treinamento\n",
        "- max_iter: quantidade máxima de vezes que o algoritmo deve ser repetido caso “parada” não seja alcançada\n"
      ]
    },
    {
      "cell_type": "markdown",
      "metadata": {
        "id": "XQ9N7ak1l4n_",
        "colab_type": "text"
      },
      "source": [
        "O relatório será o notebook exportado para um arquivo HTML e deve conter:\n",
        "- Um scatter plot mostrando os centróides (com marcador x) e seus respectivos pontos (cada cluster deve estar em uma cor distinta)\n",
        "- Para cada cluster, também devem ser exibidas as distâncias médias entre os pontos e seu respectivo centróide final\n",
        "- Discorra sobre cada cluster: o que eles indicam?\n"
      ]
    },
    {
      "cell_type": "markdown",
      "metadata": {
        "id": "8UGyDEl1l4n_",
        "colab_type": "text"
      },
      "source": [
        "#### 1. Bibliotecas"
      ]
    },
    {
      "cell_type": "code",
      "metadata": {
        "id": "N76SxvSMl4oA",
        "colab_type": "code",
        "colab": {}
      },
      "source": [
        "import numpy as np\n",
        "import matplotlib.pyplot as plt\n",
        "import pandas as pd\n",
        "import random as rd\n",
        "from copy import deepcopy"
      ],
      "execution_count": 0,
      "outputs": []
    },
    {
      "cell_type": "markdown",
      "metadata": {
        "id": "SgqcTbASl4oC",
        "colab_type": "text"
      },
      "source": [
        "#### 2. Carregando dados"
      ]
    },
    {
      "cell_type": "code",
      "metadata": {
        "id": "_cZu176pl4oD",
        "colab_type": "code",
        "outputId": "6ff251b3-9b00-441a-9594-5d847add06c8",
        "colab": {
          "base_uri": "https://localhost:8080/",
          "height": 204
        }
      },
      "source": [
        "dataset = pd.read_csv(\"https://raw.githubusercontent.com/matheusjerico/kmeans-scratch/master/Dataset/base-covid-19-us.csv\")\n",
        "dataset.head()"
      ],
      "execution_count": 2,
      "outputs": [
        {
          "output_type": "execute_result",
          "data": {
            "text/html": [
              "<div>\n",
              "<style scoped>\n",
              "    .dataframe tbody tr th:only-of-type {\n",
              "        vertical-align: middle;\n",
              "    }\n",
              "\n",
              "    .dataframe tbody tr th {\n",
              "        vertical-align: top;\n",
              "    }\n",
              "\n",
              "    .dataframe thead th {\n",
              "        text-align: right;\n",
              "    }\n",
              "</style>\n",
              "<table border=\"1\" class=\"dataframe\">\n",
              "  <thead>\n",
              "    <tr style=\"text-align: right;\">\n",
              "      <th></th>\n",
              "      <th>county</th>\n",
              "      <th>cases</th>\n",
              "      <th>deaths</th>\n",
              "    </tr>\n",
              "  </thead>\n",
              "  <tbody>\n",
              "    <tr>\n",
              "      <th>0</th>\n",
              "      <td>Abbeville</td>\n",
              "      <td>84</td>\n",
              "      <td>0</td>\n",
              "    </tr>\n",
              "    <tr>\n",
              "      <th>1</th>\n",
              "      <td>Acadia</td>\n",
              "      <td>741</td>\n",
              "      <td>21</td>\n",
              "    </tr>\n",
              "    <tr>\n",
              "      <th>2</th>\n",
              "      <td>Accomack</td>\n",
              "      <td>116</td>\n",
              "      <td>0</td>\n",
              "    </tr>\n",
              "    <tr>\n",
              "      <th>3</th>\n",
              "      <td>Ada</td>\n",
              "      <td>4264</td>\n",
              "      <td>41</td>\n",
              "    </tr>\n",
              "    <tr>\n",
              "      <th>4</th>\n",
              "      <td>Adair</td>\n",
              "      <td>325</td>\n",
              "      <td>8</td>\n",
              "    </tr>\n",
              "  </tbody>\n",
              "</table>\n",
              "</div>"
            ],
            "text/plain": [
              "      county  cases  deaths\n",
              "0  Abbeville     84       0\n",
              "1     Acadia    741      21\n",
              "2   Accomack    116       0\n",
              "3        Ada   4264      41\n",
              "4      Adair    325       8"
            ]
          },
          "metadata": {
            "tags": []
          },
          "execution_count": 2
        }
      ]
    },
    {
      "cell_type": "code",
      "metadata": {
        "id": "CGT_Ydinl4oG",
        "colab_type": "code",
        "outputId": "25125b1a-72b7-4985-86a7-29ae7ff11386",
        "colab": {
          "base_uri": "https://localhost:8080/",
          "height": 36
        }
      },
      "source": [
        "dataset.shape"
      ],
      "execution_count": 3,
      "outputs": [
        {
          "output_type": "execute_result",
          "data": {
            "text/plain": [
              "(1570, 3)"
            ]
          },
          "metadata": {
            "tags": []
          },
          "execution_count": 3
        }
      ]
    },
    {
      "cell_type": "code",
      "metadata": {
        "id": "6RYvvs9Ll4oI",
        "colab_type": "code",
        "colab": {}
      },
      "source": [
        "dataset.sort_values(by=['deaths'], inplace=True)"
      ],
      "execution_count": 0,
      "outputs": []
    },
    {
      "cell_type": "code",
      "metadata": {
        "id": "Dlj36Orkl4oL",
        "colab_type": "code",
        "outputId": "971ba111-0e72-4485-98db-9fda870b72d6",
        "colab": {
          "base_uri": "https://localhost:8080/",
          "height": 284
        }
      },
      "source": [
        "cases = dataset['cases'].values\n",
        "deaths = dataset['deaths'].values\n",
        "X = np.array(list(zip(cases, deaths)))\n",
        "plt.scatter(cases, deaths, c='black', s=10)"
      ],
      "execution_count": 5,
      "outputs": [
        {
          "output_type": "execute_result",
          "data": {
            "text/plain": [
              "<matplotlib.collections.PathCollection at 0x7f7889559518>"
            ]
          },
          "metadata": {
            "tags": []
          },
          "execution_count": 5
        },
        {
          "output_type": "display_data",
          "data": {
            "image/png": "[encoded data removed]",
            "text/plain": [
              "<Figure size 432x288 with 1 Axes>"
            ]
          },
          "metadata": {
            "tags": [],
            "needs_background": "light"
          }
        }
      ]
    },
    {
      "cell_type": "markdown",
      "metadata": {
        "id": "vhTVvVOEl4oN",
        "colab_type": "text"
      },
      "source": [
        "#### 3. Criando classe do KMeans"
      ]
    },
    {
      "cell_type": "code",
      "metadata": {
        "id": "5lUO7gip5owJ",
        "colab_type": "code",
        "colab": {}
      },
      "source": [
        "# Calculando distância euclidiana\n",
        "def dist(a, b, ax=1):\n",
        "    return np.linalg.norm(a - b, axis=ax)"
      ],
      "execution_count": 0,
      "outputs": []
    },
    {
      "cell_type": "code",
      "metadata": {
        "id": "9wM_qbvyl4oO",
        "colab_type": "code",
        "colab": {}
      },
      "source": [
        "class K_Means:\n",
        "    def __init__(self, k, pontos, parada = 0.00000001, max_iter = 100):\n",
        "        self.k = k\n",
        "        self.parada = parada\n",
        "        self.max_iter = max_iter\n",
        "        self.data = pontos\n",
        "\n",
        "    def fit(self):\n",
        "        # coordenada X centroide\n",
        "        centroids_x = np.random.randint(0, np.median(self.data), size=self.k)\n",
        "        # coordenada Y centroide\n",
        "        centroids_y = np.random.randint(0, np.median(self.data), size=self.k)\n",
        "        self.centroids = np.array(list(zip(centroids_x, centroids_y)), dtype=np.float32)\n",
        "        \n",
        "        # armazenando o valor dos centroides quando ele for atualizado\n",
        "        self.centroids_old = np.zeros(self.centroids.shape)\n",
        "        \n",
        "        # label dos clusters \n",
        "        self.clusters = np.zeros(len(self.data))\n",
        "        # distancia entre centroide novo e centroide antigo\n",
        "        error = dist(self.centroids, self.centroids_old, None)\n",
        "        # Loop de treinamento\n",
        "        for i in range(self.max_iter):\n",
        "            # atribuindo cada valor ao cluster mais próximo\n",
        "            for i in range(len(self.data)):\n",
        "                distances = dist(self.data[i], self.centroids)\n",
        "                self.cluster = np.argmin(distances)\n",
        "                self.clusters[i] = self.cluster\n",
        "            # guardando valores do centroide antigo\n",
        "            self.centroids_old = deepcopy(self.centroids)\n",
        "            # encontrando novo centroide\n",
        "            for i in range(self.k):\n",
        "                self.points = [self.data[j] for j in range(len(self.data)) if self.clusters[j] == i]\n",
        "                if len(self.points) > 0:\n",
        "                  self.centroids[i] = np.mean(self.points, axis=0)\n",
        "            error = dist(self.centroids, self.centroids_old, None)\n",
        "            if error <= self.parada:\n",
        "                break\n",
        "      \n",
        "    def plot(self):\n",
        "      colors = int(self.k/6 + 1)*['r', 'g', 'b', 'y', 'c', 'm']\n",
        "      fig, ax = plt.subplots()\n",
        "\n",
        "      for i in range(self.k):\n",
        "        points = np.array([self.data[j] for j in range(len(self.data)) if self.clusters[j] == i])\n",
        "        ax.scatter(points[:, 0], points[:, 1], s=7, c=colors[i])\n",
        "        ax.scatter(self.centroids[:, 0], self.centroids[:, 1], marker='X', s=100, c='black')"
      ],
      "execution_count": 0,
      "outputs": []
    },
    {
      "cell_type": "markdown",
      "metadata": {
        "id": "qnUlMaP_l4oR",
        "colab_type": "text"
      },
      "source": [
        "#### 4. Inicializando a classe com os parametros desejados do exercício e realizando o treinamento"
      ]
    },
    {
      "cell_type": "code",
      "metadata": {
        "id": "SsD-VWWAl4oS",
        "colab_type": "code",
        "colab": {}
      },
      "source": [
        "kmeans = K_Means(k = 3, pontos = X, parada = 0.0001, max_iter = 100)\n",
        "kmeans.fit()"
      ],
      "execution_count": 0,
      "outputs": []
    },
    {
      "cell_type": "code",
      "metadata": {
        "id": "4sm7e7nFl4oU",
        "colab_type": "code",
        "outputId": "1a87e824-bba4-4577-ad99-97865e9ed01a",
        "colab": {
          "base_uri": "https://localhost:8080/",
          "height": 74
        }
      },
      "source": [
        "kmeans.centroids"
      ],
      "execution_count": 9,
      "outputs": [
        {
          "output_type": "execute_result",
          "data": {
            "text/plain": [
              "array([[8.6882400e+05, 3.1887000e+04],\n",
              "       [1.1869150e+03, 2.8396652e+01],\n",
              "       [8.8945375e+04, 2.1148750e+03]], dtype=float32)"
            ]
          },
          "metadata": {
            "tags": []
          },
          "execution_count": 9
        }
      ]
    },
    {
      "cell_type": "code",
      "metadata": {
        "id": "zfsYA88xl4oW",
        "colab_type": "code",
        "colab": {}
      },
      "source": [
        "dataset['cluster'] = kmeans.clusters"
      ],
      "execution_count": 0,
      "outputs": []
    },
    {
      "cell_type": "code",
      "metadata": {
        "id": "yX43MDPwl4oZ",
        "colab_type": "code",
        "outputId": "a1659d3a-cd1b-4494-dab4-30cdd3091507",
        "colab": {
          "base_uri": "https://localhost:8080/",
          "height": 226
        }
      },
      "source": [
        "dataset.info()"
      ],
      "execution_count": 11,
      "outputs": [
        {
          "output_type": "stream",
          "text": [
            "<class 'pandas.core.frame.DataFrame'>\n",
            "Int64Index: 1570 entries, 0 to 995\n",
            "Data columns (total 4 columns):\n",
            " #   Column   Non-Null Count  Dtype  \n",
            "---  ------   --------------  -----  \n",
            " 0   county   1570 non-null   object \n",
            " 1   cases    1570 non-null   int64  \n",
            " 2   deaths   1570 non-null   int64  \n",
            " 3   cluster  1570 non-null   float64\n",
            "dtypes: float64(1), int64(2), object(1)\n",
            "memory usage: 61.3+ KB\n"
          ],
          "name": "stdout"
        }
      ]
    },
    {
      "cell_type": "code",
      "metadata": {
        "id": "oc8FYIFcl4od",
        "colab_type": "code",
        "outputId": "ac4003d2-11c0-4847-888c-5245278a4d61",
        "colab": {
          "base_uri": "https://localhost:8080/",
          "height": 204
        }
      },
      "source": [
        "dataset.head()"
      ],
      "execution_count": 12,
      "outputs": [
        {
          "output_type": "execute_result",
          "data": {
            "text/html": [
              "<div>\n",
              "<style scoped>\n",
              "    .dataframe tbody tr th:only-of-type {\n",
              "        vertical-align: middle;\n",
              "    }\n",
              "\n",
              "    .dataframe tbody tr th {\n",
              "        vertical-align: top;\n",
              "    }\n",
              "\n",
              "    .dataframe thead th {\n",
              "        text-align: right;\n",
              "    }\n",
              "</style>\n",
              "<table border=\"1\" class=\"dataframe\">\n",
              "  <thead>\n",
              "    <tr style=\"text-align: right;\">\n",
              "      <th></th>\n",
              "      <th>county</th>\n",
              "      <th>cases</th>\n",
              "      <th>deaths</th>\n",
              "      <th>cluster</th>\n",
              "    </tr>\n",
              "  </thead>\n",
              "  <tbody>\n",
              "    <tr>\n",
              "      <th>0</th>\n",
              "      <td>Abbeville</td>\n",
              "      <td>84</td>\n",
              "      <td>0</td>\n",
              "      <td>1.0</td>\n",
              "    </tr>\n",
              "    <tr>\n",
              "      <th>865</th>\n",
              "      <td>Manitowoc</td>\n",
              "      <td>17</td>\n",
              "      <td>0</td>\n",
              "      <td>1.0</td>\n",
              "    </tr>\n",
              "    <tr>\n",
              "      <th>866</th>\n",
              "      <td>Marathon</td>\n",
              "      <td>108</td>\n",
              "      <td>0</td>\n",
              "      <td>1.0</td>\n",
              "    </tr>\n",
              "    <tr>\n",
              "      <th>869</th>\n",
              "      <td>Maries</td>\n",
              "      <td>20</td>\n",
              "      <td>0</td>\n",
              "      <td>1.0</td>\n",
              "    </tr>\n",
              "    <tr>\n",
              "      <th>871</th>\n",
              "      <td>Marinette</td>\n",
              "      <td>27</td>\n",
              "      <td>0</td>\n",
              "      <td>1.0</td>\n",
              "    </tr>\n",
              "  </tbody>\n",
              "</table>\n",
              "</div>"
            ],
            "text/plain": [
              "        county  cases  deaths  cluster\n",
              "0    Abbeville     84       0      1.0\n",
              "865  Manitowoc     17       0      1.0\n",
              "866   Marathon    108       0      1.0\n",
              "869     Maries     20       0      1.0\n",
              "871  Marinette     27       0      1.0"
            ]
          },
          "metadata": {
            "tags": []
          },
          "execution_count": 12
        }
      ]
    },
    {
      "cell_type": "markdown",
      "metadata": {
        "id": "n7QfKdq8l4of",
        "colab_type": "text"
      },
      "source": [
        "#### 5. Visualizando graficamente"
      ]
    },
    {
      "cell_type": "code",
      "metadata": {
        "id": "TRV5AiLU4VTZ",
        "colab_type": "code",
        "colab": {
          "base_uri": "https://localhost:8080/",
          "height": 265
        },
        "outputId": "c8244e74-ca2e-4c87-c5ae-332c8801ea8a"
      },
      "source": [
        "kmeans.plot()"
      ],
      "execution_count": 13,
      "outputs": [
        {
          "output_type": "display_data",
          "data": {
            "image/png": "[encoded data removed]",
            "text/plain": [
              "<Figure size 432x288 with 1 Axes>"
            ]
          },
          "metadata": {
            "tags": [],
            "needs_background": "light"
          }
        }
      ]
    },
    {
      "cell_type": "code",
      "metadata": {
        "id": "QMsssy_Sl4oi",
        "colab_type": "code",
        "outputId": "8d15a54b-8592-4b01-e4a9-f3e1ac30776c",
        "colab": {
          "base_uri": "https://localhost:8080/",
          "height": 74
        }
      },
      "source": [
        "kmeans.centroids"
      ],
      "execution_count": 14,
      "outputs": [
        {
          "output_type": "execute_result",
          "data": {
            "text/plain": [
              "array([[8.6882400e+05, 3.1887000e+04],\n",
              "       [1.1869150e+03, 2.8396652e+01],\n",
              "       [8.8945375e+04, 2.1148750e+03]], dtype=float32)"
            ]
          },
          "metadata": {
            "tags": []
          },
          "execution_count": 14
        }
      ]
    },
    {
      "cell_type": "markdown",
      "metadata": {
        "id": "4GFzzczpl4ok",
        "colab_type": "text"
      },
      "source": [
        "**Resposta**: <br>\n",
        "Os clusters representam os estados com base na quantidade de casos e mortes do COVID-19.\n",
        "- O primeiro cluster (verde), representa os estados que tiveram baixa quantidade de casos e mortes devido ao COVID-19\n",
        "- O segundo cluster(azul), representa os estados que tiveram quantidade moderada/alta de casos e mortes devido ao COVID-19.\n",
        "- O terceiro cluster (vermelho), representa o estado de New York (possuem uma quantidade muito elevada de casos de COVID-19\n"
      ]
    },
    {
      "cell_type": "markdown",
      "metadata": {
        "id": "hpwBj_eMl4ok",
        "colab_type": "text"
      },
      "source": [
        "#### 6. Para cada cluster, também devem ser exibidas as distâncias médias entre os pontos e seu respectivo centróide final"
      ]
    },
    {
      "cell_type": "code",
      "metadata": {
        "id": "vcmmSsCc1PCw",
        "colab_type": "code",
        "colab": {}
      },
      "source": [
        "def print_distancias(data, centroids):\n",
        "  dataset = data.copy()\n",
        "  dataset['centroide_x'] = np.nan\n",
        "  dataset['centroide_y'] = np.nan\n",
        "\n",
        "  for i in range(len(centroids)):\n",
        "    dataset.loc[dataset['cluster'] == i, 'centroide_x'] = centroids[i][0]\n",
        "    dataset.loc[dataset['cluster'] == i, 'centroide_y'] = centroids[i][1]\n",
        "\n",
        "  # dataset['distancia_x'] = np.abs(dataset['cases'] - dataset['centroide_x'])\n",
        "  # dataset['distancia_y'] = np.abs(dataset['deaths'] - dataset['centroide_y'])\n",
        "\n",
        "  # for i in range(len(centroids)):\n",
        "  #   print(\"Distância média (eixo X) entre os pontos do centroide {}: {}\".format(i, np.mean(dataset[dataset['cluster']==i]['distancia_x'])))\n",
        "  #   print(\"Distância média (eixo Y) entre os pontos do centroide {}: {}\".format(i, np.mean(dataset[dataset['cluster']==i]['distancia_y'])))\n",
        "\n",
        "  dataset['distancia'] = dist(\n",
        "      np.array(list(zip(dataset['cases'], dataset['deaths']))),\n",
        "      np.array(list(zip(dataset['centroide_x'], dataset['centroide_y'])))\n",
        "  )\n",
        "\n",
        "  for i in range(len(centroids)):  \n",
        "    print(\"Distância média entre os pontos do centroide {}: {}\".format(i, dataset[dataset['cluster'] == i]['distancia'].mean()))"
      ],
      "execution_count": 0,
      "outputs": []
    },
    {
      "cell_type": "code",
      "metadata": {
        "id": "iCpbbOx-18qZ",
        "colab_type": "code",
        "colab": {
          "base_uri": "https://localhost:8080/",
          "height": 74
        },
        "outputId": "730a531d-a9dc-4b9e-fbc6-11ed4ed9d916"
      },
      "source": [
        "print_distancias(dataset, kmeans.centroids)"
      ],
      "execution_count": 16,
      "outputs": [
        {
          "output_type": "stream",
          "text": [
            "Distância média entre os pontos do centroide 0: 0.0\n",
            "Distância média entre os pontos do centroide 1: 1639.2650000822305\n",
            "Distância média entre os pontos do centroide 2: 37639.72339191836\n"
          ],
          "name": "stdout"
        }
      ]
    },
    {
      "cell_type": "markdown",
      "metadata": {
        "id": "0lMvSF_1l4ou",
        "colab_type": "text"
      },
      "source": [
        "### **Obs**: Retirando o estado de New York, a visualização do cluster fica muito melhor."
      ]
    },
    {
      "cell_type": "markdown",
      "metadata": {
        "id": "QjFRweoTl4ov",
        "colab_type": "text"
      },
      "source": [
        "#### 7. Retirando o estado de New York\n",
        "- Retirar o estado de New York, utilizar o algoritmo Kmeans e visualizar os cluster."
      ]
    },
    {
      "cell_type": "code",
      "metadata": {
        "id": "OzNAHT7-l4ov",
        "colab_type": "code",
        "colab": {}
      },
      "source": [
        "dataset=dataset.iloc[:-1,:]"
      ],
      "execution_count": 0,
      "outputs": []
    },
    {
      "cell_type": "code",
      "metadata": {
        "id": "p4lGXCsSl4ox",
        "colab_type": "code",
        "outputId": "9462bb26-01cd-4acf-d27e-f6a39af41b6b",
        "colab": {
          "base_uri": "https://localhost:8080/",
          "height": 284
        }
      },
      "source": [
        "cases = dataset['cases'].values\n",
        "deaths = dataset['deaths'].values\n",
        "X = np.array(list(zip(cases, deaths)))\n",
        "plt.scatter(cases, deaths, c='black', s=10)"
      ],
      "execution_count": 18,
      "outputs": [
        {
          "output_type": "execute_result",
          "data": {
            "text/plain": [
              "<matplotlib.collections.PathCollection at 0x7f78867cea90>"
            ]
          },
          "metadata": {
            "tags": []
          },
          "execution_count": 18
        },
        {
          "output_type": "display_data",
          "data": {
            "image/png": "[encoded data removed]",
            "text/plain": [
              "<Figure size 432x288 with 1 Axes>"
            ]
          },
          "metadata": {
            "tags": [],
            "needs_background": "light"
          }
        }
      ]
    },
    {
      "cell_type": "code",
      "metadata": {
        "id": "xlNUDVshl4oz",
        "colab_type": "code",
        "colab": {
          "base_uri": "https://localhost:8080/",
          "height": 265
        },
        "outputId": "dc413f47-edc0-43bb-e1cf-b41e5a24f8f0"
      },
      "source": [
        "kmeans = K_Means(k = 3, pontos = X, parada = 0.0001, max_iter = 100)\n",
        "kmeans.fit()\n",
        "kmeans.plot()"
      ],
      "execution_count": 19,
      "outputs": [
        {
          "output_type": "display_data",
          "data": {
            "image/png": "[encoded data removed]",
            "text/plain": [
              "<Figure size 432x288 with 1 Axes>"
            ]
          },
          "metadata": {
            "tags": [],
            "needs_background": "light"
          }
        }
      ]
    },
    {
      "cell_type": "code",
      "metadata": {
        "id": "i4qyBm8jl4o2",
        "colab_type": "code",
        "outputId": "9902872a-4e5c-4851-aff7-46921eed5dd1",
        "colab": {
          "base_uri": "https://localhost:8080/",
          "height": 74
        }
      },
      "source": [
        "kmeans.centroids"
      ],
      "execution_count": 20,
      "outputs": [
        {
          "output_type": "execute_result",
          "data": {
            "text/plain": [
              "array([[1.8495167e+05, 2.7943333e+03],\n",
              "       [1.0462534e+03, 2.5062702e+01],\n",
              "       [5.7526105e+04, 1.6201578e+03]], dtype=float32)"
            ]
          },
          "metadata": {
            "tags": []
          },
          "execution_count": 20
        }
      ]
    },
    {
      "cell_type": "code",
      "metadata": {
        "id": "t0Q2bNm_l4o4",
        "colab_type": "code",
        "colab": {}
      },
      "source": [
        "dataset['cluster'] = kmeans.clusters"
      ],
      "execution_count": 0,
      "outputs": []
    },
    {
      "cell_type": "code",
      "metadata": {
        "id": "jcoZfTxY2Kem",
        "colab_type": "code",
        "colab": {
          "base_uri": "https://localhost:8080/",
          "height": 74
        },
        "outputId": "ee1182b6-0b5b-4895-8cc1-6ad0d4a6bf06"
      },
      "source": [
        "print_distancias(dataset, kmeans.centroids)"
      ],
      "execution_count": 22,
      "outputs": [
        {
          "output_type": "stream",
          "text": [
            "Distância média entre os pontos do centroide 0: 4243.744484675485\n",
            "Distância média entre os pontos do centroide 1: 1414.636105857353\n",
            "Distância média entre os pontos do centroide 2: 15765.0704267467\n"
          ],
          "name": "stdout"
        }
      ]
    },
    {
      "cell_type": "markdown",
      "metadata": {
        "id": "IK9UCSAB-obC",
        "colab_type": "text"
      },
      "source": [
        "# Desafios"
      ]
    },
    {
      "cell_type": "markdown",
      "metadata": {
        "id": "N2KDurRR-s9c",
        "colab_type": "text"
      },
      "source": [
        "#### Método Elbow"
      ]
    },
    {
      "cell_type": "code",
      "metadata": {
        "id": "gHYswF_t37gU",
        "colab_type": "code",
        "colab": {}
      },
      "source": [
        "def elbow_plot(data, k_max):\n",
        "  dataset = data.copy()\n",
        "  dists = []\n",
        "\n",
        "  for i in range(k_max - 2):\n",
        "    kmeans = K_Means(k = i+2, pontos = X, parada = 0.0001, max_iter = 10)\n",
        "    kmeans.fit()\n",
        "\n",
        "    dataset['cluster'] = kmeans.clusters\n",
        "    dataset['centroide_x'] = np.nan\n",
        "    dataset['centroide_y'] = np.nan\n",
        "\n",
        "    for i in range(kmeans.k):\n",
        "      dataset.loc[dataset['cluster'] == i, 'centroide_x'] = kmeans.centroids[i][0]\n",
        "      dataset.loc[dataset['cluster'] == i, 'centroide_y'] = kmeans.centroids[i][1]\n",
        "\n",
        "    dataset['distancia'] = dist(\n",
        "        np.array(list(zip(dataset['cases'], dataset['deaths']))),\n",
        "        np.array(list(zip(dataset['centroide_x'], dataset['centroide_y'])))\n",
        "    )\n",
        "    dists.append([i+2, dataset['distancia'].mean()])\n",
        "\n",
        "  x = []\n",
        "  y = []\n",
        "\n",
        "  fig, ax = plt.subplots()\n",
        "  for i in range(len(dists)):\n",
        "    x.append(dists[i][0])\n",
        "    y.append(dists[i][1])\n",
        "\n",
        "  ax.set_xlabel('Quantidade de Clusters')\n",
        "  ax.set_ylabel('Distância Média')\n",
        "\n",
        "  ax.plot(x, y, c='b', marker='x')"
      ],
      "execution_count": 0,
      "outputs": []
    },
    {
      "cell_type": "code",
      "metadata": {
        "id": "6QeucxSXCdOB",
        "colab_type": "code",
        "outputId": "792daa72-d198-4fe1-f21d-3c040b151538",
        "colab": {
          "base_uri": "https://localhost:8080/",
          "height": 279
        }
      },
      "source": [
        "elbow_plot(dataset, 10)"
      ],
      "execution_count": 24,
      "outputs": [
        {
          "output_type": "display_data",
          "data": {
            "image/png": "[encoded data removed]",
            "text/plain": [
              "<Figure size 432x288 with 1 Axes>"
            ]
          },
          "metadata": {
            "tags": [],
            "needs_background": "light"
          }
        }
      ]
    }
  ]
}